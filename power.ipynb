{
 "cells": [
  {
   "cell_type": "code",
   "execution_count": 1,
   "id": "cc549585",
   "metadata": {},
   "outputs": [],
   "source": [
    "import statsmodels.stats.power as smp\n",
    "from scipy.stats import ttest_1samp\n",
    "import numpy as np"
   ]
  },
  {
   "cell_type": "code",
   "execution_count": 2,
   "id": "4e1837a6",
   "metadata": {},
   "outputs": [],
   "source": [
    "alpha = 0.01\n",
    "p_aware = 0.05"
   ]
  },
  {
   "cell_type": "code",
   "execution_count": 3,
   "id": "de818397",
   "metadata": {},
   "outputs": [
    {
     "name": "stdout",
     "output_type": "stream",
     "text": [
      "Sample size: 80\n"
     ]
    },
    {
     "name": "stderr",
     "output_type": "stream",
     "text": [
      "/home/johnv/anaconda3/envs/niseq/lib/python3.10/site-packages/scipy/stats/_continuous_distns.py:6832: RuntimeWarning: divide by zero encountered in _nct_sf\n",
      "  return np.clip(_boost._nct_sf(x, df, nc), 0, 1)\n"
     ]
    }
   ],
   "source": [
    "power_analysis = smp.TTestPower()\n",
    "sample_size = power_analysis.solve_power(\n",
    "    effect_size = 0.451, \n",
    "    power = 0.95, \n",
    "    alpha = alpha, \n",
    "    alternative = 'larger'\n",
    ")\n",
    "sample_size = np.round(sample_size).astype(int)\n",
    "print('Sample size:', sample_size)"
   ]
  },
  {
   "cell_type": "code",
   "execution_count": 4,
   "id": "f460c5e4",
   "metadata": {},
   "outputs": [],
   "source": [
    "def simulate_subject(p_aware):\n",
    "    \n",
    "    seed = np.random.randint(0, 100000000)\n",
    "    rng = np.random.default_rng(seed)\n",
    "    \n",
    "    n_trials = 40 # per condition, standard for intentional binding\n",
    "    sd = 92 # standard deviation of trial-by-trial estimates around sub mean\n",
    "    effect_size = 28 + rng.normal(0, 76) # jittered by population variance\n",
    "    \n",
    "    est_baseline = rng.normal(0, sd, n_trials)\n",
    "    est_unaware = rng.normal(0, sd, n_trials)\n",
    "    est_aware = rng.normal(effect_size, sd, n_trials)\n",
    "    aware = rng.uniform(size = n_trials) < p_aware\n",
    "    est_operant = np.choose(aware, [est_unaware, est_aware])\n",
    "    return est_operant.mean() - est_baseline.mean()\n",
    "\n",
    "def simulate(p_aware, n_subjects, alpha):\n",
    "    deltas = [simulate_subject(p_aware) for i in range(n_subjects)]\n",
    "    res = ttest_1samp(deltas, popmean = 0, alternative = 'greater')\n",
    "    return res.pvalue < alpha\n",
    "    "
   ]
  },
  {
   "cell_type": "code",
   "execution_count": 5,
   "id": "e0b49311",
   "metadata": {},
   "outputs": [
    {
     "name": "stdout",
     "output_type": "stream",
     "text": [
      "0.0426\n"
     ]
    }
   ],
   "source": [
    "# find combined false positive rate by simulation\n",
    "np.random.seed(0)\n",
    "n_simulations = 5000\n",
    "ct = 0\n",
    "for i in range(n_simulations):\n",
    "    ct += simulate(p_aware, sample_size, alpha)\n",
    "print(ct / n_simulations)"
   ]
  },
  {
   "cell_type": "code",
   "execution_count": 6,
   "id": "78f2d43c",
   "metadata": {},
   "outputs": [
    {
     "data": {
      "text/plain": [
       "0.525"
      ]
     },
     "execution_count": 6,
     "metadata": {},
     "output_type": "execute_result"
    }
   ],
   "source": [
    "accuracy = lambda p_aware: .5*(1 - p_aware) + 1.*p_aware\n",
    "accuracy(p_aware) # accuracy corresponding to p_aware"
   ]
  },
  {
   "cell_type": "code",
   "execution_count": 10,
   "id": "53a5beed",
   "metadata": {},
   "outputs": [
    {
     "data": {
      "text/plain": [
       "6"
      ]
     },
     "execution_count": 10,
     "metadata": {},
     "output_type": "execute_result"
    }
   ],
   "source": [
    "np.round(60. / 10.).astype(int)"
   ]
  },
  {
   "cell_type": "code",
   "execution_count": 30,
   "id": "3b634fbf",
   "metadata": {},
   "outputs": [
    {
     "data": {
      "text/plain": [
       "4"
      ]
     },
     "execution_count": 30,
     "metadata": {},
     "output_type": "execute_result"
    }
   ],
   "source": [
    "np.random.randint(0, 5)"
   ]
  },
  {
   "cell_type": "code",
   "execution_count": 31,
   "id": "132ff1f6",
   "metadata": {},
   "outputs": [
    {
     "data": {
      "text/plain": [
       "1.0714285714285714"
      ]
     },
     "execution_count": 31,
     "metadata": {},
     "output_type": "execute_result"
    }
   ],
   "source": [
    "600/560"
   ]
  },
  {
   "cell_type": "code",
   "execution_count": null,
   "id": "0eac2649",
   "metadata": {},
   "outputs": [],
   "source": []
  }
 ],
 "metadata": {
  "kernelspec": {
   "display_name": "Python 3 (ipykernel)",
   "language": "python",
   "name": "python3"
  },
  "language_info": {
   "codemirror_mode": {
    "name": "ipython",
    "version": 3
   },
   "file_extension": ".py",
   "mimetype": "text/x-python",
   "name": "python",
   "nbconvert_exporter": "python",
   "pygments_lexer": "ipython3",
   "version": "3.10.8"
  }
 },
 "nbformat": 4,
 "nbformat_minor": 5
}
